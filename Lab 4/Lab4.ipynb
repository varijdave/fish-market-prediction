{
 "cells": [
  {
   "cell_type": "code",
   "execution_count": 9,
   "id": "91257184",
   "metadata": {},
   "outputs": [],
   "source": [
    "import pandas as pd\n",
    "import pickle\n",
    "from sklearn.model_selection import train_test_split\n",
    "from sklearn.ensemble import RandomForestClassifier\n",
    "from sklearn.preprocessing import LabelEncoder\n",
    "from sklearn.metrics import accuracy_score"
   ]
  },
  {
   "cell_type": "code",
   "execution_count": 2,
   "id": "948bb612",
   "metadata": {},
   "outputs": [],
   "source": [
    "# Step 1: Load and preprocess the data\n",
    "data = pd.read_csv('fish.csv')"
   ]
  },
  {
   "cell_type": "code",
   "execution_count": 3,
   "id": "de721db8",
   "metadata": {},
   "outputs": [],
   "source": [
    "# For classification, we'll predict the species\n",
    "# For regression, we'll predict the weight\n",
    "# Choose your desired target variable accordingly\n",
    "\n",
    "# Classification:\n",
    "target_variable = 'Species'\n",
    "# Regression:\n",
    "# target_variable = 'Weight'\n",
    "\n",
    "X = data.drop(columns=[target_variable])\n",
    "y = data[target_variable]"
   ]
  },
  {
   "cell_type": "code",
   "execution_count": 4,
   "id": "cbb266dc",
   "metadata": {},
   "outputs": [],
   "source": [
    "# Encoding the target variable for classification\n",
    "label_encoder = LabelEncoder()\n",
    "y = label_encoder.fit_transform(y)\n",
    "\n",
    "# Split the data into training and testing sets\n",
    "X_train, X_test, y_train, y_test = train_test_split(X, y, test_size=0.2, random_state=42)"
   ]
  },
  {
   "cell_type": "code",
   "execution_count": 5,
   "id": "15dfaafa",
   "metadata": {},
   "outputs": [
    {
     "data": {
      "text/plain": [
       "RandomForestClassifier(random_state=42)"
      ]
     },
     "execution_count": 5,
     "metadata": {},
     "output_type": "execute_result"
    }
   ],
   "source": [
    "# Step 2: Build the ML model\n",
    "model = RandomForestClassifier(n_estimators=100, random_state=42)\n",
    "# For regression:\n",
    "# from sklearn.ensemble import RandomForestRegressor\n",
    "# model = RandomForestRegressor(n_estimators=100, random_state=42)\n",
    "\n",
    "# Train the model\n",
    "model.fit(X_train, y_train)"
   ]
  },
  {
   "cell_type": "code",
   "execution_count": 6,
   "id": "de5ccb9e",
   "metadata": {},
   "outputs": [
    {
     "name": "stdout",
     "output_type": "stream",
     "text": [
      "Accuracy: 0.78\n"
     ]
    }
   ],
   "source": [
    "# Step 3: Evaluate the model (for classification)\n",
    "y_pred = model.predict(X_test)\n",
    "accuracy = accuracy_score(y_test, y_pred)\n",
    "print(f\"Accuracy: {accuracy:.2f}\")"
   ]
  },
  {
   "cell_type": "code",
   "execution_count": 10,
   "id": "02226134",
   "metadata": {},
   "outputs": [],
   "source": [
    "# Save the trained model to a file using Pickle\n",
    "with open('fish.pkl', 'wb') as file:\n",
    "    pickle.dump(model, file)"
   ]
  },
  {
   "cell_type": "code",
   "execution_count": null,
   "id": "737f3a73",
   "metadata": {},
   "outputs": [],
   "source": []
  }
 ],
 "metadata": {
  "kernelspec": {
   "display_name": "Python 3 (ipykernel)",
   "language": "python",
   "name": "python3"
  },
  "language_info": {
   "codemirror_mode": {
    "name": "ipython",
    "version": 3
   },
   "file_extension": ".py",
   "mimetype": "text/x-python",
   "name": "python",
   "nbconvert_exporter": "python",
   "pygments_lexer": "ipython3",
   "version": "3.9.13"
  }
 },
 "nbformat": 4,
 "nbformat_minor": 5
}
